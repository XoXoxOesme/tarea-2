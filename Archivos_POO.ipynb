{
  "cells": [
    {
      "cell_type": "markdown",
      "source": [
        "# Nueva sección"
      ],
      "metadata": {
        "id": "0-8I0jsgBBWi"
      }
    },
    {
      "cell_type": "code",
      "source": [
        "\n",
        "class persona:\n",
        "\n",
        "    def inicializar(self,nombre,nota):\n",
        "      self.nombre=nombre\n",
        "      self.nota=nota\n",
        "\n",
        "    def imprimir(self):\n",
        "      print(\"nombre\",self.nombre)\n",
        "      print(\"nota\",self.nota)\n",
        "\n",
        "    def mostrar_edad(self):\n",
        "      if self.nota>=18:\n",
        "        print(\"es mayor de edad\")\n",
        "      else:\n",
        "          print(\"no es mayor de edad\")\n",
        "\n",
        "#bloque principal\n",
        "persona1=persona()\n",
        "persona1.inicializar(\"Gismara\", 12)\n",
        "persona1.imprimir()\n",
        "persona1.mostrar_edad()\n",
        "\n",
        "persona2=persona()\n",
        "persona2.inicializar(\"Pepe\",23)\n",
        "persona2.imprimir()\n",
        "persona2.mostrar_edad()"
      ],
      "metadata": {
        "id": "ZjVJ1FCABxjU"
      },
      "execution_count": null,
      "outputs": []
    },
    {
      "cell_type": "code",
      "source": [
        "class triangulo:\n",
        "\n",
        "   def __init__(self,lado1,lado2,lado3):\n",
        "      self.lado1=lado1\n",
        "      self.lado2=lado2\n",
        "      self.lado3=lado3\n",
        "\n",
        "   def lado_mayor(self):\n",
        "      lados=[self.lado1 , self.lado2 , self.lado3]\n",
        "      lado_mayor=max(lados)\n",
        "      return lado_mayor\n",
        "\n",
        "   def es_equilatero(self):\n",
        "    return self.lado1==self.lado2==self.lado3\n",
        "\n",
        "lado1=float(input(\"ingrese el primer lado del triangulo:\"))\n",
        "lado2=float(input(\"ingrese el segundo lado del triangulo:\"))\n",
        "lado3=float(input(\"ingrese el tercer lado del triangulo:\"))\n",
        "triangulo=triangulo(lado1,lado2,lado3)\n",
        "print(\"el lado mayor del triangulo es:\")\n",
        "print(triangulo.lado_mayor())\n",
        "\n",
        "if triangulo.es_equilatero():\n",
        "   print(\"el triangulo es equilatero\")\n",
        "else:\n",
        "   print(\"el triangulo no es equilatero\")"
      ],
      "metadata": {
        "id": "aq3PzEOgBxmD"
      },
      "execution_count": null,
      "outputs": []
    },
    {
      "cell_type": "code",
      "source": [
        "class alumno:\n",
        "\n",
        "    def inicializar(self,nombre,nota):\n",
        "        self.nombre=nombre\n",
        "        self.nota=nota\n",
        "\n",
        "    def imprimir(self):\n",
        "        print(\"nombre:\",self.nombre)\n",
        "        print(\"nombre:\",self.nota)\n",
        "\n",
        "    def mostrar_estado(self):\n",
        "        if self.nota>=4:\n",
        "           print(\"regular\")\n",
        "        else:\n",
        "            print(\"libre\")\n",
        "\n",
        "#bloque principal\n",
        "\n",
        "alumno1=alumno()\n",
        "alumno1.inicializar(\"diego\",21)\n",
        "alumno1.imprimir()\n",
        "alumno1.mostrar_estado()\n",
        "\n",
        "alumno2=alumno()\n",
        "alumno2.inicializar(\"ana\",10)\n",
        "alumno2.imprimir()\n",
        "alumno2.mostrar_estado()"
      ],
      "metadata": {
        "id": "BF_R_8A4BxoY"
      },
      "execution_count": null,
      "outputs": []
    },
    {
      "cell_type": "code",
      "source": [
        "class Persona:\n",
        "\n",
        "    def inicializar(self,nom):\n",
        "        self.nombre=nom\n",
        "\n",
        "    def imprimir(self):\n",
        "        print(\"Nombre\",self.nombre)\n",
        "\n",
        "\n",
        "# bloque principal\n",
        "\n",
        "persona1=Persona()\n",
        "persona1.inicializar(\"Pedro\")\n",
        "persona1.imprimir()\n",
        "\n",
        "persona2=Persona()\n",
        "persona2.inicializar(\"Carla\")\n",
        "persona2.imprimir()"
      ],
      "metadata": {
        "id": "hctVlC4DBxr_"
      },
      "execution_count": null,
      "outputs": []
    }
  ],
  "metadata": {
    "colab": {
      "provenance": []
    },
    "kernelspec": {
      "display_name": "Python 3",
      "name": "python3"
    },
    "language_info": {
      "name": "python"
    }
  },
  "nbformat": 4,
  "nbformat_minor": 0
}